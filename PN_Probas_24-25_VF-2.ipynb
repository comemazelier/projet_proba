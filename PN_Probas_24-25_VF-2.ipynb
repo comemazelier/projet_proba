{
 "cells": [
  {
   "cell_type": "markdown",
   "metadata": {},
   "source": [
    "<h1 style=\"font-family: Georgia, serif;font-size: 2.5em;margin-left: 3em;margin-right: 4em;\"> \n",
    "\n",
    "---\n",
    "\n",
    "Probabilités 2024/25 : Projet numérique\n",
    "\n",
    "---\n",
    "\n",
    "</h1> "
   ]
  },
  {
   "cell_type": "code",
   "execution_count": null,
   "metadata": {},
   "outputs": [],
   "source": [
    "## Import des packages et des fonctions utiles pour le projet\n",
    "\n",
    "#-----------------------------------------------------\n",
    "\n",
    "import numpy as np\n",
    "import matplotlib.pyplot as plt\n",
    "import matplotlib.patches as patches\n",
    "from matplotlib.collections import PatchCollection\n",
    "\n",
    "#-----------------------------------------------------\n",
    "\n",
    "## Vecteur de couleurs\n",
    "Cat=np.array(['#F8B005','#E35704','#A92A04'])\n",
    "Dext = [-2, 2]\n",
    "D = [-1, 1]\n",
    "\n",
    "## Fonction pour représenter les simulations\n",
    "def plotSim(S,figsize=(7,7),fromAbove=True,cropSim=True):\n",
    "\n",
    "    ## Sort by increasing time\n",
    "    Sim=S.copy()\n",
    "    indSort=np.argsort(Sim[:,0])\n",
    "    if fromAbove==False:\n",
    "        indSort=np.flip(indSort)\n",
    "    Sim=Sim[indSort,:]\n",
    "    \n",
    "    coordinates,sizes,colors = Sim[:,1:3], Sim[:,3], Cat[Sim[:,4].astype(int)]\n",
    "    \n",
    "    # Calculate bottom-left corner of each rectangle to center it\n",
    "    bottom_left_coords = coordinates - np.stack([sizes, sizes], axis=1)*(2**0.5)/2\n",
    "\n",
    "    # Create the rectangles\n",
    "    rectangles = [patches.Rectangle((x, y), w, h,angle=45,rotation_point='center') for (x, y), w, h in zip(bottom_left_coords, sizes*(2**0.5), sizes*(2**0.5))]\n",
    "\n",
    "    # Create a PatchCollection and apply the colors\n",
    "    collection = PatchCollection(rectangles, facecolor=colors, edgecolor='black')\n",
    "    \n",
    "    ## Plot\n",
    "    fig,ax = plt.subplots(figsize=figsize)\n",
    "    ax.add_collection(collection)\n",
    "    if cropSim:\n",
    "        ax.set_xlim(D[0],D[1])\n",
    "        ax.set_ylim(D[0],D[1])\n",
    "    else:\n",
    "        ax.set_xlim(Dext[0],Dext[1])\n",
    "        ax.set_ylim(Dext[0],Dext[1])\n",
    "    plt.show()"
   ]
  },
  {
   "cell_type": "markdown",
   "metadata": {},
   "source": [
    "## Introduction"
   ]
  },
  {
   "cell_type": "markdown",
   "metadata": {},
   "source": [
    "<h1 style=\"font-family: Georgia, serif;font-size: 1.1em;margin-left: 3em;margin-right: 4em;\"> \n",
    "\n",
    "---\n",
    "\n",
    "La géométrie stochastique est une branche des probabilités qui s'intéresse à la modélisation d'objets géométriques (e.g. points, lignes, polygones,...) dont les attributs et/ou la position dans l'espace sont aléatoires. Ces modèles sont utilisés pour modéliser un grand nombre de phénomènes, comme par exemple la position des épicentres  de séismes, la positions des arbres dans une forêt, ou la disposition de fibres ou de grains dans des matériaux composites.\n",
    "\n",
    "L'objectif de ce projet est de construire et de simuler un modèle simple de géométrie stochastique, le modèle dit des *feuilles mortes*. Il tire son nom du fait qu'il peut être vu comme une façon de modéliser des tapis de feuilles mortes sur le sol. L'idée est la suivante: on assimile les feuilles à des carrés \"apparaissant\" à des temps aléatoires et à des positions aléatoires sur un domaine $\\mathcal{D}\\subseteq \\mathbb{R}^2$ (le sol). On considère également que la taille et la couleur de ces carrés sont aléatoires. En supposant que les feuilles tombent depuis un temps $t=-\\infty$ et on considère l'état du domaine $\\mathcal{D}$ à l'instant $t=0$ (le tapis de feuilles).\n",
    "\n",
    "---\n",
    "\n",
    "</h1> "
   ]
  },
  {
   "cell_type": "markdown",
   "metadata": {},
   "source": [
    "## I - Temps d'arrivée des feuilles"
   ]
  },
  {
   "cell_type": "markdown",
   "metadata": {},
   "source": [
    "<h1 style=\"font-family: Georgia, serif;font-size: 1em;margin-left: 3em;margin-right: 4em;\"> \n",
    "\n",
    "---\n",
    "\n",
    "On suppose qu'on observe le tapis de feuille mortes au temps $T_0=0$ et que des feuilles sont tombées depuis un temps infini. On note ainsi $(T_{k})_{k\\in\\mathbb{Z}_-^*}$ la séquence des temps d'arrivée sur le sol des feuilles: $T_{-1}\\le 0$ est le temps d'arrivée de la dernière feuille du tapis, $T_{-2}\\le T_{-1}$ le temps d'arrivée de l'avant-dernière feuille, etc.\n",
    "\n",
    "Afin de modéliser les temps aléatoires $(T_{-i})_{i\\in\\mathbb{N}^*}$ auxquels les feuilles mortes tombent sur le sol, nous recourrons à un modèle permettant de représenter des points aléatoires dans l'intervalle $I = ]-\\infty, 0]$: le processus de Poisson (homogène). Ce modèle est défini de la manière suivante :\n",
    "\n",
    "1. Pour tout $ A \\in {\\cal B} (]-\\infty, 0])$ borné et fixé, le nombre de points $N (A)=\\text{Card}\\lbrace i\\in\\mathbb{N}^* : T_{-i} \\in A\\rbrace$ suit\n",
    "      une loi de Poisson de paramètre $\\theta \\, | A |$, où $\\theta \\in \\mathbb{R}^+$ et $|A|$ est la mesure de Lebesgue de $A$. On a donc\n",
    "      $$ \\mathbb{P} ( N (A) = n) = \\exp \\bigl( - \\theta | A | \\bigr) \\frac{\n",
    "        \\bigl( \\theta | A | \\bigr)^n }{n!},~n \\in \\N $$\n",
    "\n",
    "2. Pour tout $p\\ge 2$, si $A_1,...,A_p \\in {\\cal B} (]-\\infty, 0]) $ sont \n",
    "      disjoints deux à deux, alors $ N(A_1),...,N(A_p)$ sont \n",
    "      mutuellement indépendants.\n",
    "\n",
    "Le paramètre $\\theta$ est appelé l'intensité (ou densité) du processus de Poisson.\n",
    "\n",
    "---\n",
    "\n",
    "</h1> \n"
   ]
  },
  {
   "cell_type": "markdown",
   "metadata": {},
   "source": [
    "**Question 1.a.** Pour $i\\in\\mathbb{N}^*$ on pose $E_i = T_{-i +1} - T_{-i}$. Justifier que $\\forall i\\in\\mathbb{N}^*, \\tau >0,$  les événements $\\lbrace E_i > \\tau\\rbrace$ et $\\lbrace N( \\left[ T_{-(i-1)}-\\tau, T_{-(i-1)} \\right[)=0\\rbrace$ sont identiques, tout comme les évènements $\\lbrace T_{-(i-1)}=t\\rbrace$ et $ \\lbrace  N([t,0[)=i-1\\rbrace \\cap\\lbrace  N(]t,0[)=i-2 \\rbrace$ pour $t<0$ et $i>1$.\n"
   ]
  },
  {
   "cell_type": "markdown",
   "metadata": {},
   "source": [
    "**Réponse**\n",
    "\n",
    "Soit $i\\in \\N$. Si $E_i > \\tau$ alors $T_{-i+1} - T_{-i} > \\tau$ et aucune feuille ne tombe durant l'intervalle de temps $]T_{-i},T_{-i+1}[$. Or puisque $T_{-i+1} - T_{-i} > \\tau$, on a $T_{-i} < T_{-i+1} - \\tau$, et donc $ [T_{-(i-1)}-\\tau, T_{-(i-1)}[ \\subset ]T_{-i},T_{-i+1}[ $. Puisque $N(]T_{-i},T_{-i+1}[ ) = 0$, on en déduit que $N([T_{-(i-1)}-\\tau, T_{-(i-1)}[)=0$. \n",
    "\n",
    "Réciproquement, si $N[T_{-(i-1)} - \\tau, T_{-(i-1)}[) = 0$ alors on sait que $T_{-i} < T_{-(i-1)} - \\tau$ et donc $ E_i > \\tau$.\n",
    "\n",
    "Soit $t<0$ et $i>1$.\n",
    "Si $T_{-(i-1)} =t$ alors on sait que i-1 feuilles sont tombées sur l'intervalle $[t,0[$ et par définition de la variable aléatoire $N([t,0[)$, on sait que celle-ci prend la valeur i-1 et que $N(]t,0[) = i-2$. Réciproquement, si $ N([t,0[) = i-1$ et $N(]t,0[) = i-2$, cela signifie qu'une feuille exactement est tombée à l'instant $t$, et que cette feuille était la i-1ème en partant de la fin, soit $T_{-i+1} = t$."
   ]
  },
  {
   "cell_type": "markdown",
   "metadata": {},
   "source": [
    "**Question 1.b.** En déduire que $\\forall i\\in\\mathbb{N}^*$, $E_i$ suit une loi exponentielle de paramètre $\\theta$.\n",
    "\n",
    "*Indication: Pour $i>1$, on pourra passer par le calcul de $\\mathbb{P}(N([T_{-(i-1)}-\\tau, T_{-(i-1)}[)=0)$ et utiliser le théorème de l'espérance totale pour calculer cette probabilité (la définition de la loi de $N(A)$ n'étant valable a priori que pour des boréliens $A$ déterministes/fixés).* "
   ]
  },
  {
   "cell_type": "markdown",
   "metadata": {},
   "source": [
    "**Réponse**\n",
    "\n",
    "Soit $i>0$. \n",
    "\n",
    "$$ \\mathbb{P}(N([T_{-(i-1)} - \\tau, T_{-(i-1)}[ )= 0 ) = \\mathbb{E} ( \\mathbb{1}_{N([T_{-(i-1)} - \\tau, T_{-(i-1)}[) = 0 })\n",
    "$$\n",
    "Or d'après le théorème de l'espérance totale,\n",
    "\n",
    "$$ \n",
    " \\mathbb{E} ( \\mathbb{1}_{N([T_{-(i-1)} - \\tau, T_{-(i-1)}[ )= 0 }) = \\mathbb{E} ( \\mathbb{E} ( \\mathbb{1}_{N([T_{-(i-1)} - \\tau, T_{-(i-1)}[) = 0 } \\vert T_{-(i-1)}))\n",
    "$$\n",
    "\n",
    "Soit $t<0$. On sait que $$\\mathbb{E} ( \\mathbb{1}_{N([T_{-(i-1)} - \\tau, T_{-(i-1)}[) = 0 } \\vert T_{-(i-1)}=t) = \\mathbb{P} (N([t-\\tau,t[) = 0 ) = e^{-\\theta \\tau}$$ et cette dernière expression ne fait pas apparaître $t$.\n",
    "\n",
    "Ainsi, $\\mathbb{E} (\\mathbb{1}_{N([T_{-(i-1)} - \\tau, T_{-(i-1)}[ )= 0 } \\vert T_{-(i-1)}) = e^{-\\theta \\tau}$, et donc $\\mathbb{E} ( \\mathbb{E} ( \\mathbb{1}_{N([T_{-(i-1)} - \\tau, T_{-(i-1)}[) = 0 } \\vert T_{-(i-1)})) = e^{-\\theta \\tau}$.\n",
    "\n",
    "Finalement,\n",
    "$$\n",
    "\\mathbb{P}(N([T_{-(i-1)} - \\tau, T_{-(i-1)}[) = 0 ) = e^{-\\theta \\tau}\n",
    "$$\n",
    "Et d'après la question **1. a**, $\\mathbb{P}(N([T_{-(i-1)} - \\tau, T_{-(i-1)}[ ) = 0 ) = \\mathbb{P} (E_i > \\tau)$.\n",
    "\n",
    "On en conclut que\n",
    "\n",
    "$$\n",
    "1-\\mathbb{P} (E_i \\leqslant \\tau) = e^{-\\theta \\tau}\n",
    "$$\n",
    "Et donc que la fonction de partition $F$ de $E_i$ est :\n",
    "$$\n",
    "F(\\tau) = 1 - e^{-\\theta \\tau}\n",
    "$$\n",
    "\n",
    "D'où l'on en déduit que $E_i$ suit une loi exponentielle de paramètre $\\theta$."
   ]
  },
  {
   "cell_type": "markdown",
   "metadata": {},
   "source": [
    "**Question 1.c.** Soit $n\\in\\mathbb{N}$ où $n\\ge 2$, et soient $e_1, \\dots, e_{n-1} \\in \\R_+$. Montrer que $\\mathbb{P}(E_n>\\tau\\vert E_1=e_1, \\dots, E_{n-1}=e_{n-1} ) = \\mathbb{P}(E_n>\\tau)$. \n",
    "\n",
    "*Indication: On pourra poser  $\\mathcal{H}_{n-1} = \\lbrace E_1=e_1, \\dots, E_{n-1}=e_{n-1}\\rbrace$ et exprimer $\\mathcal{H}_{n-1}$ en fonction des variables $T_{-i}$.* "
   ]
  },
  {
   "cell_type": "markdown",
   "metadata": {},
   "source": [
    "**Réponse**\n",
    "\n",
    "En posant $\\mathcal{H}_{n-1} = \\lbrace E_1=e_1, \\dots, E_{n-1}=e_{n-1}\\rbrace$, on remarque que $\\mathcal{H}_{n-1} = \\lbrace T_{-1} = -e_1, T_{-2} = -(e_1 + e_2), \\dots, T_{-(n-1)} = -(e_1 + \\dots + e_{n-1}) \\rbrace$ car l'égalité se déduit immédiatement du fait que $T_0 = 0$.\n",
    "\n",
    "Or on peut réécrire ce dernier événement si l'on suppose que $e_1,\\dots,e_{n-1}$ sont non nuls \n",
    "$$\n",
    "\\lbrace N(\\lbrace -(e_1+\\dots + e_{n-1}\\rbrace)=1, N(]-(e_1+\\dots+e_{n-1}),-(e_1+\\dots+-e_{-(n-2)}[) =0, N(\\lbrace -(e_1+\\dots+e_{n-2})\\rbrace) = 1, N(]-(e_1+\\dots + e_{n-2}), -(e_1+\\dots+e_{n-3})[)=0, \\dots, N(\\lbrace -e_1 \\rbrace)=1, N(]-e_1,0[)=0 \\rbrace\n",
    "$$\n",
    "Sinon, la dernière écriture se généralise en adaptant les valeurs prises pour les $N(\\lbrace -e_i \\rbrace)$ au nombre de variables $T$ qui valent $-e_i$ et en adaptant la forme des segments ouverts considérés.\n",
    "\n",
    "Dans tous les cas, on peut écrire $\\mathcal{H}_{n-1}$ comme une intersection d'événements faisant intervenir des variables aléatoires mutuellement indépendantes, puisque les boréliens considérés à l'intérieur des $N(\\dots)$ sont deux à deux disjoints.\n",
    "\n",
    "Puisque \n",
    "$$\n",
    "\\mathbb{P} (E_n > \\tau \\vert \\mathcal{H}_{n-1})= \\frac{\\mathbb{P}((E_n>\\tau)\\cap \\mathcal{H}_{n-1})}{\\mathbb{P}(\\mathcal{H}_{n-1})}\n",
    "$$\n",
    "Et que\n",
    "$$\n",
    "\\lbrace E_n >\\tau \\rbrace \\cap \\mathcal{H}_{n-1} = \\lbrace T_{-n} < -(e_1+\\dots+e_{n-1})- \\tau \\rbrace \\cap \\mathcal{H}_{n-1} = \\lbrace N([-(e_1+\\dots+e_{n-1}) -\\tau, -(e_1+\\dots+e_{n-1})[)=0 \\rbrace \\cap \\mathcal{H}_{n-1}\n",
    "$$\n",
    "Ce qui fait intervenir des boréliens deux à deux disjoints, on en déduit que \n",
    "$$\n",
    "\\mathbb{P} (E_n > \\tau \\vert \\mathcal{H}_{n-1})= \\frac{\\mathbb{P}( N([-(e_1+\\dots+e_{n-1}) -\\tau, -(e_1+\\dots+e_{n-1})[)=0 )\\mathbb{P}(\\mathcal{H}_{n-1})}{\\mathbb{P}(\\mathcal{H}_{n-1})}\n",
    "$$\n",
    "D'où\n",
    "$$\n",
    "\\mathbb{P} (E_n > \\tau \\vert \\mathcal{H}_{n-1})=\\mathbb{P}( N([-(e_1+\\dots+e_{n-1}) -\\tau, -(e_1+\\dots+e_{n-1})[)=0 )=e^{-\\theta\\tau}=\\mathbb{P}(E_n>\\tau)\n",
    "$$\n",
    "D'après la question précédente.\n",
    "\n",
    "On remarque que l'égalité reste vraie avec une inégalité large :\n",
    "\n",
    "$$\n",
    "\\mathbb{P} (E_n \\geq \\tau \\vert E_1=e_1,\\dots,E_{n-1}=e_{n-1}) = \\mathbb{P}(E_n \\geq \\tau)\n",
    "$$"
   ]
  },
  {
   "cell_type": "markdown",
   "metadata": {},
   "source": [
    "**Question 1.d.** En déduire que la suite $(E_i)_{i\\in\\mathbb{N}^*} $ est une suite de variables aléatoires indépendantes, toutes de loi exponentielle de paramètre $\\theta$."
   ]
  },
  {
   "cell_type": "markdown",
   "metadata": {},
   "source": [
    "**Réponse**\n",
    "\n",
    "On vient de montrer que pour tout $n \\in \\N$, tous $e_1,\\dots,e_{n-1} \\in \\R^{+}$\n",
    "$$\n",
    "\\mathbb{P}(E_n >\\tau, E_{n-1}=e_{n-1},\\dots,E_1=e_1)=\\mathbb{P}(E_n>\\tau \\vert E_{n-1}=e_{n-1},\\dots,E_1=e_1)\\mathbb{P}(E_{n-1}=e_{n-1},\\dots,E_1=e_1)=\\mathbb{P}(E_n>\\tau)\\mathbb{P}(E_{n-1}=e_{n-1},\\dots,E_1=e_1)\n",
    "$$\n",
    "Or puisque la dernière égalité est vérifiée pour une inégalité large, on en déduit que pour $e_n \\in \\R^+$,\n",
    "$$\n",
    "\\mathbb{P}(E_n=e_n,E_{n-1}=e_{n-1},\\dots,E_1=e_1) = \\mathbb{P}(E_n \\geq e_n,E_{n-1}=e_{n-1},\\dots,E-1=e_1) - \\mathbb{P}(E_n > e_n,E_{n-1}=e_{n-1},\\dots,E_1=e_1)=\\mathbb{P}(E_n=e_n)\\mathbb{P}(E_{n-1}=e_{n-1},\\dots,E_{1}=e_1)\n",
    "$$\n",
    "On en déduit en raisonnant de proche en proche que\n",
    "$$\n",
    "\\mathbb{P}(E_n=e_n,\\dots,E_1=e_1)=\\mathbb{P}(E_n=e_n)\\dots\\mathbb{P}(E_1=e_1)\n",
    "$$\n",
    "Ceci nous assure que pour tout $n\\in \\N$, pour tous $i_1,\\dots,i_m \\in \\lbrace 1,\\dots, n\\rbrace$ avec $m \\leq n$ et les $i_j$ deux à deux distincts, pour tous boréliens $A_{i_1},\\dots,A_{i_m}$ de ${\\cal B} (]-\\infty, 0])$,\n",
    "$$\n",
    "\\mathbb{P}(\\bigcap_{j} (E_{i_j}\\in A_{i_j})) = \\prod_{j} \\mathbb{P}(E_{i_j} \\in A_{i_j})\n",
    "$$\n",
    "Car il suffit en effet d'intégrer sur les $A_{i_j}$ et d'appliquer le théorème de Fubini.\n",
    "Ainsi, les variables $(E_i)_{i\\in \\N^*}$ sont indépendantes, et d'après la question **1. b**, elles suivent une loi exponentielle de paramètre $\\theta$."
   ]
  },
  {
   "cell_type": "markdown",
   "metadata": {},
   "source": [
    "**Question 1.dbis.(Bonus)** Montrer que inversement, si $(E_i)_{i\\in\\mathbb{N}^*} $ est une suite de variables aléatoires indépendantes, toutes de loi exponentielle de paramètre $\\theta$, alors la suite $(T_{-i})_{i\\in\\mathbb{N}^*}$ telle que $E_i = T_{-i +1} - T_{-i}$ définit un processus de Poisson sur $]-\\infty, 0[$."
   ]
  },
  {
   "cell_type": "markdown",
   "metadata": {},
   "source": [
    "**Éléments de réponse**\n",
    "\n",
    "D'après la formule proposée pour les $T_{-i}$, on en déduit que $T_{-n} = -\\sum_{i\\in \\lbrace 1,\\dots,n \\rbrace} E_i$. Mais on sait que la somme de deux variables aléatoires indépendantes à densité a pour densité leur produit de convolution.\n",
    "Ainsi, il faudrait calculer le produit de convolution des $-E_i$ pour $i\\in \\lbrace 1,\\dots,n \\rbrace$ pour montrer le résultat demandé."
   ]
  },
  {
   "cell_type": "markdown",
   "metadata": {},
   "source": [
    "**Question 1.e.**  Implémenter une fonction qui, étant données une valeur $t_{\\min}<0$ et une valeur de $\\theta$, permet de simuler les temps d'arrivée des feuilles tombant dans l'intervalle $[t_{\\min},0[$, i.e. les variables $(T_{-i})_{i\\in\\mathbb{N}^*}$ telles que $T_{-i} \\in [t_{\\min},0[$. On veillera à ce que les temps d'arrivées soient retournés un vecteur trié dans l'ordre croissant."
   ]
  },
  {
   "cell_type": "code",
   "execution_count": null,
   "metadata": {},
   "outputs": [],
   "source": [
    "def simTempsArrivee(t_min,theta):\n",
    "    #on génère un processus exponentiel de paramètre theta qui représente les différents E_i, tant que la somme des E_i est inférieure à -t_min\n",
    "    t = 0\n",
    "    instant_chute_feuille = []\n",
    "\n",
    "    while t > t_min :\n",
    "        a = - np.log(np.random.uniform())/theta\n",
    "        t = t - a\n",
    "        if t > t_min:\n",
    "            instant_chute_feuille.append(t)\n",
    "    return np.array(instant_chute_feuille[::-1])"
   ]
  },
  {
   "cell_type": "code",
   "execution_count": null,
   "metadata": {},
   "outputs": [],
   "source": [
    "simTempsArrivee(-300 ,5)"
   ]
  },
  {
   "cell_type": "markdown",
   "metadata": {},
   "source": [
    "## II - Caractéristiques des feuilles"
   ]
  },
  {
   "cell_type": "markdown",
   "metadata": {},
   "source": [
    "<h1 style=\"font-family: Georgia, serif;font-size: 1em;margin-left: 3em;margin-right: 4em;\"> \n",
    "\n",
    "\n",
    "---\n",
    "\n",
    "Dans la suite du projet, on pose $\\mathcal{D}=[-1,1]\\times [-1,1]$ et $\\mathcal{D}_{ext}=[-2,2]\\times[-2,2]$.\n",
    "\n",
    "\n",
    "On passe maintenant à la modélisation des caractéristiques des feuilles $F$, à savoir leur position, leur couleur et leur taille.\n",
    "\n",
    "Comme indiqué en introduction, les feuilles sont assimilées à des carrés de $\\mathbb{R}^2$. En particulier, on suppose que toutes les feuilles tombent avec la même orientation: on peut donc assimiler ces feuilles/carrés à des ''boules'' (fermées) pour la norme $\\Vert\\cdot\\Vert_1$ définie par $\\Vert x\\Vert_1 = \\vert x_1\\vert + \\vert x _2\\vert$, $x=(x_1,x_2)\\in\\mathbb{R}^2$. Ainsi chaque feuille $F$ est en somme une boule de centre $\\chi(F)\\in\\mathbb{R}^2$ et de rayon $\\rho(F)>0$ aléatoires.\n",
    "\n",
    "La position d'une feuille $F$ sur le sol est spécifiée par le centre $\\chi(F)\\in\\mathbb{R}^2$ du carré/de la boule correspondant(e). On suppose que les feuilles tombent uniformément dans $\\mathcal{D}_{ext}$, i.e. $\\chi(F)\\sim \\mathcal{U}(\\mathcal{D}_{ext})$.\n",
    "\n",
    "La taille d'une feuille $F$ est spécifiée par le rayon $\\rho(F)>0$ de la boule correspondante. Ce rayon suit une loi qui sera précisée plus tard, mais on suppose que la taille des feuilles est bornée par $1/2$, de sorte que seules les feuilles tombant dans $\\mathcal{D}_{ext}$ intersectent la zone d'étude $\\mathcal{D}$. \n",
    "\n",
    "On représente ci-dessous une feuille $F$ pour fixer les idées.\n",
    "\n",
    "</h1> "
   ]
  },
  {
   "cell_type": "code",
   "execution_count": null,
   "metadata": {},
   "outputs": [],
   "source": [
    "## Figure représentant une feuille F\n",
    "fig,ax=plt.subplots(figsize=(5,5))\n",
    "ax.plot([-1,0,1,0,-1],[0,1,0,-1,0],color=\"black\")\n",
    "ax.plot([0,1],[0,0],color=\"darkblue\")\n",
    "ax.scatter(0,0,color=\"darkred\")\n",
    "ax.text(-0.,-0.1,r\"$\\chi(F)$\",fontsize=15,ha='center', va='top',color=\"darkred\")\n",
    "ax.text(0.5,0.05,r\"$\\rho(F)$\",fontsize=15,ha='center', va='bottom',color=\"darkblue\")\n",
    "ax.set_title(\"Représentation d'une feuille F\",fontsize=15)\n",
    "ax.axis('off')\n",
    "plt.show()\n"
   ]
  },
  {
   "cell_type": "markdown",
   "metadata": {},
   "source": [
    "<h1 style=\"font-family: Georgia, serif;font-size: 1em;margin-left: 3em;margin-right: 4em;\"> \n",
    "\n",
    "La couleur d'une feuille $F$ est quant à elle modélisée par un entier $c(F)\\in\\lbrace 0,...,N_c-1\\rbrace$ où $N_c$ désigne le nombre de couleurs possibles. La probabilité qu'une feuille soit de couleur $k$ est notée $\\mathbb{P}(c(F)=k)=p_k\\in[0,1]$ et on a $\\sum_{k=0}^{N_c-1}p_k=1$.\n",
    "\n",
    "Enfin, on considère que les caractéristiques (position, taille, couleur) d'une feuille sont indépendantes de son temps d'arrivée.\n",
    "Ainsi, si on note $F$ une feuille arrivant à un des temps $T_{-i}$, $i\\in\\mathbb{N}^*$, alors $\\chi(F)$,  $c(F)$ et $\\rho(F)\\in ]0,1/2[$  sont des variables aléatoires indépendantes de $T_{-i}$. \n",
    "On supposera également que  $\\chi(F)$ est indépendante de $c(F)$ et $\\rho(F)$, et que la loi de $\\rho(F)$ dépend de la couleur $c(F)$ de la feuille.\n",
    "\n",
    "---\n",
    "\n",
    "</h1> "
   ]
  },
  {
   "cell_type": "markdown",
   "metadata": {},
   "source": [
    "\n",
    "**Question 2.a.** Soit $x_0 \\in\\mathcal{D}$ quelconque. Montrer que la probabilité qu'une feuille $F$ de couleur $c(F)=i\\in\\lbrace 0,\\dots,N_c-1\\rbrace$ et de taille $\\rho(F)=r\\in]0,1/2[$ recouvre le point $x_0$ est donnée par\n",
    "$$\n",
    "\\begin{aligned}\n",
    "P(x_0\\in F \\;\\vert\\; c(F)=i,\\; \\rho(F)=r)\n",
    "%=\\frac{\\vert B_1(x_0, r)\\vert }{\\vert \\mathcal{D}\\vert}\n",
    "=\\frac{r^2 }{8}\n",
    "\\end{aligned}\n",
    "$$"
   ]
  },
  {
   "cell_type": "markdown",
   "metadata": {},
   "source": [
    "**Réponse**\n",
    "\n",
    "Puisque $x_0 \\in \\mathcal{D}$, il suffit que $\\chi(F)$ appartienne au losange de centre $x_0$ et de rayon $r$ pour que $x_0 \\in F$. Or on sait que $\\chi(F)\\sim \\mathcal{U}(\\mathcal{D}_{ext})$.\n",
    "La proba cherchée est donc le rapport de l'aire du losange de centre $x_0$ et de rayon $r$ et de l'aire de $\\mathcal{D}_{ext}$ :\n",
    "$$\n",
    "\\mathbb{P}(x_0 \\in F \\vert c(F)=i, \\rho(F)=r) = \\frac{2r^2}{4 \\times 4} = \\frac{r^2}{8}\n",
    "$$"
   ]
  },
  {
   "cell_type": "markdown",
   "metadata": {},
   "source": [
    "\n",
    "**Question 2.b.** Montrer que la probabilité qu'une feuille $F$ de couleur $i$  recouvre le point $x_0 \\in\\mathcal{D}$ est donnée par\n",
    "$$\n",
    "\\begin{aligned}\n",
    "\\mathbb{P}(c(F)=i, x_0\\in F)\n",
    "&=\\frac{p_ir_i^2}{8}\n",
    "\\end{aligned}\n",
    "$$\n",
    "où on note $p_i = \\mathbb{P}(c(F)=i) $ et $r_i^2=\\mathbb{E}\\big[\\rho(F)^2 \\,\\big\\vert\\, c(F)=i\\big]$.\n"
   ]
  },
  {
   "cell_type": "markdown",
   "metadata": {},
   "source": [
    "**Réponse**\n",
    "\n",
    "Par définition :\n",
    "$$\n",
    "\\mathbb{P}(c(F)=i, x_0\\in F) = \\mathbb{P}(x_0\\in F \\;\\vert\\; c(F)=i)*\\mathbb{P}(c(F)=i) = \\mathbb{P}(x_0\\in F \\;\\vert\\; c(F)=i)*p_i\n",
    "$$\n",
    "Or d'après la formule du balayage conditionnel :\n",
    "$$\n",
    "\\mathbb{P}(x_0\\in F \\;\\vert\\; c(F)=i) = \\int_{0}^{1/2}\\mathbb{P}(x_0\\in F \\;\\vert\\; c(F)=i,\\;\\rho (F)=r)d\\mathbb{P}_{\\rho (F) \\;\\vert\\; c(F)=i}(r)\n",
    "$$\n",
    "D'où en utilisant la question 2.a. :\n",
    "$$\n",
    "\\mathbb{P}(x_0\\in F \\;\\vert\\; c(F)=i) = \\int_{0}^{1/2}\\frac{r^2}{8}d\\mathbb{P}_{\\rho (F) \\;\\vert\\; c(F)=i}(r)\n",
    "$$\n",
    "Or par définition :\n",
    "$$\n",
    "r_i^2 = \\mathbb{E}\\big[\\rho (F)^2\\;\\big\\vert\\; c(F) = i\\big] = \\int_{0}^{1/2}{r^2}d\\mathbb{P}_{\\rho (F) \\;\\vert\\; c(F)=i}(r)\n",
    "$$\n",
    "D'où finalement :\n",
    "$$\n",
    "\\mathbb{P}(c(F)=i, x_0\\in F) = p_i*\\frac{1}{8}*r_i^2 = \\frac{p_ir_i^2}{8}\n",
    "$$"
   ]
  },
  {
   "cell_type": "markdown",
   "metadata": {},
   "source": [
    "**Question 2.c.** En déduire que  la probabilité qu'une feuille $F$ recouvre le point $x_0 \\in\\mathcal{D}$ est donnée par\n",
    "$$\n",
    "\\begin{aligned}\n",
    "\\mathbb{P}(x_0\\in F)\n",
    "&=\\frac{1}{8}\\sum_{j=0}^{N_c-1} p_jr_j^2\n",
    "\\end{aligned}\n",
    "$$\n",
    "et que la probabilité qu'une feuille $F$ soit de couleur $i$  sachant qu'elle recouvre le point $x_0 \\in\\mathcal{D}$ est donnée par\n",
    "$$\n",
    "\\begin{aligned}\n",
    "\\mathbb{P}(c(F)=i \\vert x_0\\in F)\n",
    "&=\\frac{p_ir_i^2}{\\sum_{j=0}^{N_c-1} p_jr_j^2}\n",
    "\\end{aligned}\n",
    "$$"
   ]
  },
  {
   "cell_type": "markdown",
   "metadata": {},
   "source": [
    "**Réponse**\n",
    "\n",
    "D'après la formule des probabilités totales et la question 2.b. :\n",
    "$$\n",
    "\\mathbb{P}(x_0\\in F) = \\sum_{j=0}^{N_c-1} \\mathbb{P}(x_0\\in F, c(F)=j) = \\frac{1}{8}\\sum_{j=0}^{N_c-1} p_jr_j^2\n",
    "$$\n",
    "Puis d'après la formule de Bayes :\n",
    "$$\n",
    "\\mathbb{P}(c(F)=i \\;\\vert\\; x_0\\in F) = \\frac{\\mathbb{P}(x_0\\in F \\;\\vert\\; c(F)=i)}{\\sum_{j=0}^{N_c-1}\\mathbb{P}(x_0\\in F \\;\\vert\\; c(F)=j)}\n",
    "$$\n",
    "D'où après simplification par $\\frac{1}{8}$ :\n",
    "$$\n",
    "\\mathbb{P}(c(F)=i \\vert x_0\\in F)=\\frac{p_ir_i^2}{\\sum_{j=0}^{N_c-1} p_jr_j^2}\n",
    "$$"
   ]
  },
  {
   "cell_type": "markdown",
   "metadata": {},
   "source": [
    "\n",
    "<h1 style=\"font-family: Georgia, serif;font-size: 1em;margin-left: 3em;margin-right: 4em;\"> \n",
    "\n",
    "---\n",
    "\n",
    "**Remarque:** Soit $C(x_0)\\in\\lbrace 0,\\dots,N_c-1\\rbrace$ la couleur de la feuille recouvrant le point $x_0\\in\\mathcal{D}$  au temps $T_0=0$. $C(x_0)$ correspond donc à la couleur de la dernière feuille recouvrant $x_0$.  On note que puisque les couleurs des feuilles sont tirées indépendamment de leurs temps d'arrivée, la distribution de la couleur de la dernière feuille recouvrant le point $x_0$ est la même que la distribution de la couleur de n'importe quelle autre feuille recouvrant $x_0$, à savoir $\\mathbb{P}(c(F)= \\cdot ~ \\vert x_0\\in F)$. On peut dès lors conclure que\n",
    "\n",
    "$$\n",
    "\\begin{aligned}\n",
    "\\mathbb{P}(C(x_0)=i)=\\mathbb{P}(c(F)=i \\vert x_0\\in F) = \\frac{p_ir_i^2}{\\sum_{j=0}^{N_c} p_jr_j^2}, \\quad i\\in \\lbrace 0,\\dots,N_c-1\\rbrace.\n",
    "\\end{aligned}\n",
    "$$\n",
    "\n",
    "---\n",
    "\n",
    "</h1 style=\"font-family: Georgia, serif;font-size: 1em;margin-left: 3em;margin-right: 4em;\"> "
   ]
  },
  {
   "cell_type": "markdown",
   "metadata": {},
   "source": [
    "**Question 2.cbis.(Bonus).**  Soit $\\tilde N(x_0,\\tau)$ le nombre de feuilles recouvrant le point $x_0$ et étant tombées dans l'intervalle de temps $[-\\tau,0[$. Montrer que $ \\tilde N(x_0,\\tau)$ suit une loi de Poisson de paramètre $\\tilde\\theta\\tau$ avec \n",
    "\n",
    "$$\\tilde\\theta=\\frac{\\theta}{8}\\sum_{j=0}^{N_c-1} p_jr_j^2$$\n",
    "\n",
    "*Indication: On pourra introduire la variable $\\tilde N(\\tau)$ donnant le nombre total de feuilles tombées  dans l'intervalle de temps $[-\\tau,0[$ (quelle que soit leur couleur ou leur position).*"
   ]
  },
  {
   "cell_type": "markdown",
   "metadata": {},
   "source": [
    "**Réponse**\n",
    "\n",
    "En notant $\\tilde N(\\tau)$ le nombre total de feuilles tombées dans l'intervalle de temps $[-\\tau, 0[$, $\\tilde N(\\tau) = N([-\\tau, 0[)$.\n",
    "\n",
    "Puis, en appliquant la formule des probabilités totales :\n",
    "\n",
    "$$\n",
    "\\mathbb{P}(\\tilde N(x_0, \\tau)= k)\n",
    "= \\sum_{n=0}^{+\\infty} \\mathbb{P}(\\tilde N(x_0, \\tau)= k \\;\\vert\\; \\tilde N(\\tau)=n)\\mathbb{P}(\\tilde N(\\tau)=n)\n",
    "= \\sum_{n=k}^{+\\infty} \\mathbb{P}(\\tilde N(x_0, \\tau)= k \\;\\vert\\; \\tilde N(\\tau)=n)\\mathbb{P}(\\tilde N(\\tau)=n)\n",
    "$$\n",
    "Or :\n",
    "$$\n",
    "\\mathbb{P}(\\tilde N(x_0, \\tau)= k \\;\\vert\\; \\tilde N(\\tau)=n)\n",
    "= \\mathbb{P}\\big( \\bigsqcup_{\\underset{|\\mathcal{F}| = k}{\\mathcal{F}\\subset\\mathcal{F_\\tau}}}\\big[\\big(\\bigcap_{F\\in\\mathcal{F}}(x_0\\in F)\\big ) \\cap \\big(\\bigcap_{F\\notin\\mathcal{F}}(x_0 \\notin \\mathcal{F}\\big )\\big)\\big]\\big )\n",
    "$$\n",
    "avec $\\mathcal{F_\\tau}$ l'ensemble des feuilles $F$ tombées pendant l'intervalle de temps $[-\\tau, 0[$.\n",
    "\n",
    "Par indépendance des évènements $\\big((x_0\\in F)\\big)_{F\\in\\mathcal{F_\\tau}}$ :\n",
    "$$\n",
    "\\mathbb{P}(\\tilde N(x_0, \\tau)= k \\;\\vert\\; \\tilde N(\\tau)=n)\n",
    "= \\sum_{\\underset{|\\mathcal{F}| = k}{\\mathcal{F}\\subset\\mathcal{F_\\tau}}}\\big(\\prod_{F\\in\\mathcal{F}}\\mathbb{P}(x_0\\in F)\\big ) \\big(\\prod_{F\\notin\\mathcal{F}}\\mathbb{P}(x_0 \\notin \\mathcal{F}\\big )\\big)\n",
    "$$\n",
    "Donc en notant $p = \\mathbb{P}(x_0\\in F)$ (probabilité qui ne dépend pas de la feuille choisie) :\n",
    "$$\n",
    "\\mathbb{P}(\\tilde N(x_0, \\tau)= k \\;\\vert\\; \\tilde N(\\tau)=n) = \\sum_{\\underset{|\\mathcal{F}| = k}{\\mathcal{F}\\subset\\mathcal{F_\\tau}}} p^k (1-p)^{n-k} = \\binom{n}{k}p^k(1-p)^{n-k}\n",
    "$$\n",
    "Ainsi :\n",
    "$$\n",
    "\\mathbb{P}(\\tilde N(x_0, \\tau)= k)\n",
    "= \\sum_{n=k}^{+\\infty} \\binom{n}{k}p^k(1-p)^{n-k}\\mathbb{P}(\\tilde N(\\tau)=n) = \\sum_{n=k}^{+\\infty} \\frac{n!}{k!(n-k)!}p^k(1-p)^{n-k}e^{-\\theta\\tau}\\frac{(\\theta\\tau)^n}{n!}\n",
    "$$\n",
    "$$\n",
    "\\mathbb{P}(\\tilde N(x_0, \\tau)= k) =  e^{-\\theta\\tau}\\,\\frac{p^k\\,(\\theta\\tau)^k}{k!}\\,\\sum_{n=0}^{+\\infty} \\frac{\\big(\\theta\\tau(1-p)\\big)^k}{k!}\n",
    "= e^{-\\theta\\tau}\\,\\frac{(p\\theta\\tau)^k}{k!}\\,e^{\\theta\\tau(1-p)}\n",
    "$$\n",
    "D'où finalement :\n",
    "$$\n",
    "\\mathbb{P}(\\tilde N(x_0, \\tau)= k) = e^{-p\\theta\\tau}\\,\\frac{(p\\theta\\tau)^k}{k!}\n",
    "$$\n",
    "\n",
    "Donc $\\tilde\\N(x_0,\\tau)\\sim\\mathcal{P}(\\tilde\\theta\\tau)$ avec $\\tilde\\theta =p\\,\\theta = \\frac{\\theta}{8}\\sum_{j=0}^{N_c-1} p_jr_j^2$ (d'après la question 2.c.)."
   ]
  },
  {
   "cell_type": "markdown",
   "metadata": {},
   "source": [
    "**Question 2.d.** En déduire que la probabilité qu'aucune feuille ne recouvre le point $x_0\\in\\mathcal{D}$ au temps $T_0=0$ est nulle (en pensant à bien justifier d'éventuels passages à la limite).\n"
   ]
  },
  {
   "cell_type": "markdown",
   "metadata": {},
   "source": [
    "La probabilité qu'aucune feuille ne recouvre le point $x_0\\in\\mathcal{D}$ au temps $T_0=0$ est $\\mathbb{P}\\big(\\bigcap_{n\\in\\mathbb{N}}(\\tilde N(x_0, n) = 0)\\big)$.\n",
    "\n",
    "Par décroissance des $\\big((\\tilde N(x_0, n) = 0)\\big)_{n\\in\\mathbb{N}}$, en appliquant la proprité de continuité monotone :\n",
    "$$\n",
    "\\mathbb{P}\\big(\\bigcap_{n\\in\\mathbb{N}}(\\tilde N(x_0, n) = 0)\\big)\n",
    "= \\lim_{n \\,\\rightarrow +\\infty}\\mathbb{P}(\\tilde N(x_0, n) = 0)\n",
    "= \\lim_{n \\,\\rightarrow +\\infty}e^{-\\tilde\\theta n}\n",
    "= 0\n",
    "$$\n",
    "\n",
    "car $\\tilde\\theta >0$ (en considérant que $\\rho (F)$ n'est pas identiquement nulle). "
   ]
  },
  {
   "cell_type": "markdown",
   "metadata": {},
   "source": [
    "<h1 style=\"font-family: Georgia, serif;font-size: 1em;margin-left: 3em;margin-right: 4em;\"> \n",
    "\n",
    "---\n",
    "\n",
    "On considère que la taille $\\rho(F)$ d'une feuille dépend de la couleur $c(F)$ de la feuille comme suit: si la couleur de la feuille est $c(F)=i\\in\\lbrace 0,\\dots, N_c-1\\rbrace$, alors $\\rho(F)$ suit une loi uniforme sur $[a_i,b_i]$ pour un certain $a_i\\in[0,1/2[$ et un certain $b_i\\in]a_i,1/2[$.\n",
    "\n",
    "---\n",
    "\n",
    "</h1 style=\"font-family: Georgia, serif;font-size: 1em;margin-left: 3em;margin-right: 4em;\"> \n"
   ]
  },
  {
   "cell_type": "markdown",
   "metadata": {},
   "source": [
    "**Question 3.a.** Montrer que l'expression de la fonction de répartition de $\\rho(F)$ est donnée par:\n",
    "$$\n",
    "\\mathcal{F_\\rho}(r)\n",
    " = \\sum_{i=0}^{N_c-1} p_i (\\frac{r-a_i}{b_i-a_i}\\mathbf{1}_{[a_i,b_i]}(r)+\\mathbf{1}_{]b_i,+\\infty[}(r)), \\quad r\\ge 0.\n",
    "$$"
   ]
  },
  {
   "cell_type": "markdown",
   "metadata": {},
   "source": [
    "**Réponse**\n",
    "\n",
    "Soit $r\\ge 0$. D'après la formule des probabilités totales :\n",
    "$$\n",
    "\\mathcal{F_\\rho}(r)\n",
    "= \\mathbb{P}(\\rho (F)\\le 0)\n",
    "= \\sum_{i=0}^{N_c-1} \\mathbb{P}(\\rho (F)\\le 0 \\;\\vert\\; c(F) = i)\\mathbb{P}(c(F)=i)\n",
    "$$\n",
    "Donc :\n",
    "$$ \n",
    "\\mathcal{F_\\rho}(r)\n",
    "= \\sum_{i=0}^{N_c-1} p_i \\,\\int_{-\\infty}^{r} \\frac{1}{b_i-a_i}\\mathbb{1}_{[a_i, \\, b_i]}(s)ds\n",
    "$$\n",
    "Or $\\forall i\\in \\llbracket 0, N_c-1\\rrbracket$ :\n",
    "$$\n",
    "\\int_{-\\infty}^{r} \\frac{1}{b_i-a_i}\\mathbb{1}_{[a_i, \\, b_i]}(s)ds =\n",
    "\\left\\{\n",
    "    \\begin{aligned}\n",
    "    0\\;\\; &\\quad si \\;r < a_i \\\\\n",
    "    \\frac{r-a_i}{b_i-a_i} &\\quad si \\; r \\in [a_i, b_i] \\\\\n",
    "    1\\;\\; &\\quad si \\; r > b_i \n",
    "    \\end{aligned}\n",
    "\\right.\n",
    "\n",
    "$$\n",
    "*i.e* \n",
    "$$\n",
    "\\int_{-\\infty}^{r} \\frac{1}{b_i-a_i}\\mathbb{1}_{[a_i, \\, b_i]}(s)ds =\\frac{r-a_i}{b_i-a_i}\\mathbf{1}_{[a_i,b_i]}(r)+\\mathbf{1}_{]b_i,\\infty[}(r)\n",
    "$$\n",
    "D'où finalement :\n",
    "\n",
    "$$\n",
    "\\mathcal{F_\\rho}(r)\n",
    "= \\sum_{i=0}^{N_c-1} p_i (\\frac{r-a_i}{b_i-a_i}\\mathbf{1}_{[a_i,b_i]}(r)+\\mathbf{1}_{]b_i,+\\infty[}(r)).\n",
    "$$"
   ]
  },
  {
   "cell_type": "markdown",
   "metadata": {},
   "source": [
    "**Question 3.b.** Implémenter une fonction permettant d'évaluer la fonction de répartition $\\mathcal{F_\\rho}$ et son inverse (généralisée) $\\mathcal{F_\\rho}^{-1}$. Ces fonctions prendront en entrée la valeur $r$ (resp. $p$) à laquelle on souhaite évaluer $\\mathcal{F_\\rho}$ (resp. $\\mathcal{F_\\rho}^{-1}$), ainsi qu'un vecteur $a\\in [0,1/2]^{N_c}$ contenant les valeurs $a_i$ et un vecteur $b\\in [0,1/2]^{N_c}$ contenant les valeurs $b_i$.\n",
    "\n",
    "*Indication: On pourra utiliser la fonction \"minimize_scalar\" du package \"scipy.optimize\" afin de calculer les valeurs de $\\mathcal{F_\\rho}^{-1}$ à partir de celles de $\\mathcal{F_\\rho}$*"
   ]
  },
  {
   "cell_type": "code",
   "execution_count": null,
   "metadata": {},
   "outputs": [],
   "source": [
    "from scipy.optimize import minimize_scalar\n",
    "Nc = 3\n",
    "p = np.empty(Nc)\n",
    "def F_rho(r,a,b):\n",
    "    somme = 0\n",
    "    for i in range(Nc) :\n",
    "        if r >= a[i] and r <= b[i] :\n",
    "            somme += p[i]*((r-a[i])/b[i]-a[i])\n",
    "        elif r > b[i] :\n",
    "            somme += p[i]\n",
    "    return somme\n",
    "\n",
    "def fonction_a_minimiser(r, p, a, b) : # Fonction minimale quand F_rho(x) -> p par la droite, donc permet d'obtenir inf({x | F_rho(x) >= p}) par croissance de F_rho. \n",
    "    \n",
    "    return abs(F_rho(r,a,b)-p)\n",
    "    \n",
    "def invF_rho(p,a,b):\n",
    "    \n",
    "    def f(r) :\n",
    "        return fonction_a_minimiser(r, p, a, b)\n",
    "    \n",
    "    if p < 0 or p > 1 :\n",
    "        print('Error : p is not a probability.')\n",
    "        return None\n",
    "    else :\n",
    "        return minimize_scalar(f,bounds=(0,0.5),method='bounded').x\n"
   ]
  },
  {
   "cell_type": "markdown",
   "metadata": {},
   "source": [
    "<h1 style=\"font-family: Georgia, serif;font-size: 1em;margin-left: 3em;margin-right: 4em;\"> \n",
    "\n",
    "---\n",
    "\n",
    "On considère dorénavant que $N_c=3$ et on pose les valeurs suivantes pour les vecteurs $a$ et $b$, et les probabilités $p_i$.\n",
    "\n",
    "---\n",
    "\n",
    "</h1> "
   ]
  },
  {
   "cell_type": "code",
   "execution_count": null,
   "metadata": {},
   "outputs": [],
   "source": [
    "#Nombre de couleurs\n",
    "Nc = 3\n",
    "\n",
    "## Probabilités p_i (stockées dans un vecteur)\n",
    "p = np.array([0.5,0.4,0.1])\n",
    "\n",
    "# Vecteur a\n",
    "a = np.array([0.1,0.1,0.2])\n",
    "\n",
    "# Vecteur b\n",
    "b = np.array([0.25,0.25,0.5])"
   ]
  },
  {
   "cell_type": "markdown",
   "metadata": {},
   "source": [
    "**Question 3.c.**  On appelle quantile d'ordre $\\alpha\\in [0,1]$ d'une variable aléatoire $X$ toute valeur $q_\\alpha \\in\\mathbb{R}$ telle que $F_X(q_\\alpha)=\\alpha$. Calculer les quantiles de $\\rho(F)$ pour $\\alpha = k/50$ avec $k~\\in~\\lbrace 1,\\dots,49\\rbrace$."
   ]
  },
  {
   "cell_type": "code",
   "execution_count": null,
   "metadata": {},
   "outputs": [],
   "source": [
    "# Vecteur contentant les quantiles\n",
    "qth = np.array([invF_rho(k/50, a, b) for k in range(1, 50)])\n",
    "print(qth)"
   ]
  },
  {
   "cell_type": "markdown",
   "metadata": {},
   "source": [
    "<h1 style=\"font-family: Georgia, serif;font-size: 1em;margin-left: 3em;margin-right: 4em;\"> \n",
    "\n",
    "---\n",
    "\n",
    "Un QQ-plot est une figure permettant de comparer visuellement deux distributions de probabilité au travers de leurs quantiles. Il s'agit d'un nuage de points où on représente en abscisse les quantiles de la première distribution et en ordonnée les quantiles de la deuxième. Si ce nuage de point est aligné avec la droite $y=x$, cela signifie que les deux distributions ont des quantiles (et donc des fonctions de répartition) similaires. \n",
    "\n",
    "---\n",
    "\n",
    "</h1 style=\"font-family: Georgia, serif;font-size: 1em;margin-left: 3em;margin-right: 4em;\"> \n"
   ]
  },
  {
   "cell_type": "markdown",
   "metadata": {},
   "source": [
    "**Question 3.d.**  Simuler 10000 réalisations de la variable $\\rho(F)$. Calculer les quantiles de la distribution empirique associée à ces échantillons (en utilisant la fonction *quantile* du package *numpy*) pour $\\alpha = k/50$ avec $k~\\in~\\lbrace 1,\\dots,49\\rbrace$ et les comparer aux quantiles théoriques (calculés à la question précédente) avec un QQ-plot."
   ]
  },
  {
   "cell_type": "code",
   "execution_count": null,
   "metadata": {},
   "outputs": [],
   "source": [
    "## Simulation de rho(F)\n",
    "rho_sim = np.array([invF_rho(np.random.uniform(), a, b) for k in range(10**4)])\n",
    "\n",
    "# Calcul des quantiles des réalisations\n",
    "alpha_k = np.array([k/50 for k in range(1, 50)])\n",
    "qexp = np.quantile(rho_sim, alpha_k)"
   ]
  },
  {
   "cell_type": "code",
   "execution_count": null,
   "metadata": {},
   "outputs": [],
   "source": [
    "## QQ-plot\n",
    "fig,ax=plt.subplots()\n",
    "ax.axline((0, 0), (0.5, 0.5), linewidth=1, color='r')\n",
    "ax.scatter(qth,qexp)\n",
    "ax.set_xlabel(\"Quantiles theoriques\")\n",
    "ax.set_ylabel(\"Quantiles des simulations\")\n",
    "fig.show()"
   ]
  },
  {
   "cell_type": "markdown",
   "metadata": {},
   "source": [
    "## III - Simulation du tapis de feuilles mortes"
   ]
  },
  {
   "cell_type": "markdown",
   "metadata": {},
   "source": [
    "<h1 style=\"font-family: Georgia, serif;font-size: 1em;margin-left: 3em;margin-right: 4em;\"> \n",
    "\n",
    "---\n",
    "\n",
    "On s'intéresse dorénavant à la simulation de tapis de feuilles mortes. On prend en particulier les valeurs suivantes pour les variables $\\mathcal{D}$,$\\mathcal{D}_{ext}$ et $\\theta$.\n",
    "\n",
    "---\n",
    "\n",
    "</h1> "
   ]
  },
  {
   "cell_type": "code",
   "execution_count": null,
   "metadata": {},
   "outputs": [],
   "source": [
    "## Taille des fenêtres\n",
    "D = [-1,1]\n",
    "Dext = [-2,2]\n",
    "\n",
    "## Paramètre du processus de Poisson\n",
    "theta = 1"
   ]
  },
  {
   "cell_type": "markdown",
   "metadata": {},
   "source": [
    "**Question 4.a.** Implémenter une fonction permettant de simuler la taille d'une feuille étant donnée sa couleur $i$, et les vecteurs $a,b\\in\\R^3$ définis à Q.3.b."
   ]
  },
  {
   "cell_type": "code",
   "execution_count": null,
   "metadata": {},
   "outputs": [],
   "source": [
    "def simTaille(i,a,b):\n",
    "    return np.random.uniform(a[i], b[i])"
   ]
  },
  {
   "cell_type": "markdown",
   "metadata": {},
   "source": [
    "**Question 4.b.** Implémenter une fonction permettant de simuler la couleur d'une feuille étant donné le vecteur $p\\in\\R^3$ contenant les probabilités $p_i=\\mathbb{P}(c(F)=i)$."
   ]
  },
  {
   "cell_type": "code",
   "execution_count": null,
   "metadata": {},
   "outputs": [],
   "source": [
    "def simCouleur(p):\n",
    "    u = np.random.uniform()\n",
    "    F_p, i = p[0], 0\n",
    "    while u > F_p :\n",
    "        i += 1\n",
    "        F_p += p[i]\n",
    "    return i"
   ]
  },
  {
   "cell_type": "markdown",
   "metadata": {},
   "source": [
    "**Question 4.c.** Implémenter une fonction permettant de simuler la position d'une feuille étant donné le domaine $\\mathcal{D}_{ext}$."
   ]
  },
  {
   "cell_type": "code",
   "execution_count": null,
   "metadata": {},
   "outputs": [],
   "source": [
    "def simPosition(Dext): #chi(F) suit une loi uniforme sur Dext = [D[0], D[1]]^2\n",
    "    x = np.random.uniform(Dext[0], Dext[1])\n",
    "    y = np.random.uniform(Dext[0], Dext[1])\n",
    "    return x, y"
   ]
  },
  {
   "cell_type": "markdown",
   "metadata": {},
   "source": [
    "**Question 4.d.** Implémenter une fonction permettant de simuler le temps d'arrivée et les caractéristiques des feuilles tombant dans l'intervalle $[t_{\\min},0[$, étant donnée une valeur de $t_{\\min}<0$. La fonction devra retourner un tableau dont les colonnes contiennent, dans l'ordre, le temps d'arrivée, la position,la taille et la couleur des feuilles. On veillera à ce que les temps d'arrivées soient ordonnés dans l'ordre croissant.\n",
    "\n",
    "*Indication: On pourra repartir de l'implémentation de la fonction permettant de simuler les temps d'arrivées et utiliser les fonctions implémentées aux Q.4.a-c.*"
   ]
  },
  {
   "cell_type": "code",
   "execution_count": null,
   "metadata": {},
   "outputs": [],
   "source": [
    "def simFeuilles(t_min,theta,p,a,b,Dext):\n",
    "    temps_arrivee = simTempsArrivee(t_min,theta)\n",
    "    \n",
    "    Sim = []\n",
    "\n",
    "    for i in range(len(temps_arrivee)):\n",
    "        x,y = simPosition(Dext)\n",
    "        couleur = simCouleur(p)\n",
    "        taille = simTaille(couleur,a,b)\n",
    "        Sim.append( [temps_arrivee[i],x,y,taille,couleur])\n",
    "    return np.array(Sim)\n",
    "    \n"
   ]
  },
  {
   "cell_type": "markdown",
   "metadata": {},
   "source": [
    "<h1 style=\"font-family: Georgia, serif;font-size: 1em;margin-left: 3em;margin-right: 4em;\"> \n",
    "\n",
    "---\n",
    "\n",
    "D'après le modèle des feuilles mortes, des feuilles sont censées tomber depuis le temps $t=-\\infty$, ce qui supposerait d'appeler la fonction définie à la question précédente avec $t_{\\min}=-\\infty$. Ceci est bien sûr impossible en pratique. \n",
    "\n",
    "On s'intéresse maintenant à comment obtenir une simulation du modèle en temps (de calcul) fini.\n",
    "\n",
    "---\n",
    "\n",
    "</h1> "
   ]
  },
  {
   "cell_type": "markdown",
   "metadata": {},
   "source": [
    "**Question 5.** Générer des simulations pour $t_{\\min}=-100$ et $t_{\\min}=-500$. Le domaine $\\mathcal{D}$ est-il entièrement recouvert? Quelle contradiction obtenons-nous avec les résultats obtenus en Q.2? Existe-t-il une valeur finie de $t_{\\min}$ qui permettrait, presque-sûrement, de lever cette contradiction?"
   ]
  },
  {
   "cell_type": "code",
   "execution_count": null,
   "metadata": {},
   "outputs": [],
   "source": [
    "# Test: Simulation de tapis de feuilles\n",
    "\n",
    "## t_min = -100\n",
    "Sim_m100 = simFeuilles(t_min= -100, theta=theta,p=p,a=a,b=b,Dext=Dext)\n",
    "## Plot\n",
    "plotSim(Sim_m100)\n",
    "\n",
    "## t_min = -500\n",
    "Sim_m500 = simFeuilles(t_min= -500, theta=theta,p=p,a=a,b=b,Dext=Dext)\n",
    "## Plot\n",
    "plotSim(Sim_m500)"
   ]
  },
  {
   "cell_type": "code",
   "execution_count": null,
   "metadata": {},
   "outputs": [],
   "source": [
    "Sim_m100"
   ]
  },
  {
   "cell_type": "markdown",
   "metadata": {},
   "source": []
  },
  {
   "cell_type": "markdown",
   "metadata": {},
   "source": [
    "<h1 style=\"font-family: Georgia, serif;font-size: 1em;margin-left: 3em;margin-right: 4em;\"> \n",
    "\n",
    "---\n",
    "\n",
    "Pour lever la contradiction observée à la question précédente, on aurait besoin de déterminer a priori la valeur de $t_{\\min}$ à partir de laquelle le sol est entièrement recouvert de feuilles. Cette valeur est aléatoire, car elle dépend des caractéristiques des feuilles qui tombent dans l'intervalle $[t_{\\min},0[$. Afin de pouvoir tout de même accéder à une telle valeur, on se propose de considérer le modèle suivant.\n",
    "\n",
    "Cette fois, on commence à $t=U_0=0$ avec un sol vide, et on fait tomber des feuilles selon un processus de Poisson $(U_i)_{i\\in\\mathbb{N}^*}$ sur $]0,\\infty[$. Les caractéristiques des feuilles $F_i$ tombées à chaque instant $U_i$ sont déterminées de la même facon que pour le modèle des feuilles mortes. Soit $M = \\inf\\lbrace i \\in\\mathbb{N}^* : \\mathcal{D}\\subset\\cup_{1\\le k\\le i} F_i  \\rbrace$, c'est-à-dire l'indice (aléatoire) $M$ à partir duquel le sol est recouvert de feuilles.\n",
    "\n",
    "---\n",
    "\n",
    "</h1> "
   ]
  },
  {
   "cell_type": "markdown",
   "metadata": {},
   "source": [
    "**Question 6.a.** Soit $E \\sim \\mathcal{E}(\\theta)$ indépendante des $U_i$. Pour $i\\in\\lbrace 1,...,M\\rbrace$, on pose \n",
    "$$ T_{-i} = U_{M+1-i} - (U_M+E)$$\n",
    "Montrer que les feuilles $(F_i)_{1\\le i\\le M}$ correspondent aux $M$ dernières feuilles d'un modèle des feuilles mortes ayant pour temps d'arrivée $(T_{-i})_{1\\le i\\le M}$ (i.e. $F_M$ arrive au temps $T_{-1}$, $F_{M-1}$ arrive au temps $T_{-2}$,...).\n",
    "\n",
    "*Indication: On pourra utiliser la caractérisation des temps d'arrivée d'un modèles des feuilles mortes donnée en Q.1.dbis.*"
   ]
  },
  {
   "cell_type": "markdown",
   "metadata": {},
   "source": [
    "**Réponse**\n",
    "\n",
    "Il s'agit de montrer que les variables $(T_{-i})_{i\\in \\lbrace 1,\\dots,M \\rbrace}$ suivent la même loi que leurs homologues de la partie 1.\n",
    "\n",
    "Pour cela, il suffit de montrer d'après la question **1. dbis** que les variables $E_i = T_{-i + 1} - T_{-i}$ sont indépendantes et de loi $\\mathcal{E} (\\theta)$ pour prouver le résultat demandé. \n",
    "\n",
    "Or pour $i \\in \\lbrace 2, \\dots, M \\rbrace$, un tel $E_i$ est donné par :\n",
    "$$\n",
    "E_i = U_{M+1 - i +1} - U_{M+1 - i}\n",
    "$$\n",
    "Et pour $i=1$,\n",
    "$$\n",
    "E_1 = 0 - T_{-1} = E\n",
    "$$\n",
    "Qui est aussi de loi exponentielle de paramètre $\\theta$ et indépendante des $E_i$ pour $i \\geq 2$ puisqu'indépendate des $U_i$ pour tout $i$.\n",
    "\n",
    "Puisque les $(U_i)_{ 1 \\le i \\le M }$ définissent eux-mêmes un processus de Poisson de paramètre $\\theta$ (a priori), le résultat est acquis d'après la question **1. d** car on sait alors que les $E_i$ sont bien indépendantes et de loi $\\mathcal{E} (\\theta)$."
   ]
  },
  {
   "cell_type": "markdown",
   "metadata": {},
   "source": [
    "**Question 6.b.** En déduire une fonction permettant de simuler ces feuilles.\n",
    "\n",
    "*Indication: Pour vérifier que les points du sol sont recouverts, on se contentera de vérifier que les points d'un maillage fin du sol, appelé Ddiscr dans le code ci-dessous, sont recouverts par une feuille.*"
   ]
  },
  {
   "cell_type": "code",
   "execution_count": null,
   "metadata": {},
   "outputs": [],
   "source": [
    "## Maillage du sol\n",
    "Ddiscr=np.stack(np.meshgrid(np.arange(D[0],D[1]+0.01,0.01),np.arange(D[0],D[1]+0.01,0.01)),axis=-1).reshape(-1,2)\n",
    "Ddiscr[1:10,:]"
   ]
  },
  {
   "cell_type": "code",
   "execution_count": null,
   "metadata": {},
   "outputs": [],
   "source": [
    "def point_dans_feuille(point, feuille):\n",
    "    x0, y0 = point[:,0], point[:,1]\n",
    "    norme = np.abs(x0 - feuille[1]) + np.abs(y0 - feuille[2])\n",
    "    return norme <= feuille[3]\n"
   ]
  },
  {
   "cell_type": "code",
   "execution_count": null,
   "metadata": {},
   "outputs": [],
   "source": [
    "def simFeuillesStop(theta,p,a,b,Dext):\n",
    "\n",
    "   feuilles = [] \n",
    "   temps = [0]\n",
    "   points_restants = np.full(Ddiscr.shape[0],True,dtype=bool)\n",
    "\n",
    "   while np.any(points_restants == np.full(Ddiscr.shape[0], True, dtype=bool)):\n",
    "      \n",
    "      delta_t = - np.log(np.random.uniform())/theta\n",
    "      temps.append( temps[-1] + delta_t )\n",
    "      \n",
    "      x,y = simPosition(Dext)\n",
    "      couleur = simCouleur(p)\n",
    "      taille = simTaille(couleur,a,b)\n",
    "      feuilles.append([temps[-1],x,y,taille,couleur])\n",
    "      \n",
    "      \n",
    "      points_restants[points_restants] = ~point_dans_feuille(Ddiscr[points_restants],feuilles[-1]) #on actualise les points restants qui n'ont pas déjà été traités\n",
    "\n",
    "   return np.array(feuilles)\n",
    "\n",
    "         \n",
    "      "
   ]
  },
  {
   "cell_type": "code",
   "execution_count": null,
   "metadata": {},
   "outputs": [],
   "source": [
    "## Simulation du tapis de feuilles\n",
    "Sim = simFeuillesStop(theta,p,a,b,Dext)"
   ]
  },
  {
   "cell_type": "code",
   "execution_count": null,
   "metadata": {},
   "outputs": [],
   "source": [
    "Sim"
   ]
  },
  {
   "cell_type": "code",
   "execution_count": null,
   "metadata": {},
   "outputs": [],
   "source": [
    "plotSim(np.array(Sim))"
   ]
  },
  {
   "cell_type": "markdown",
   "metadata": {},
   "source": [
    "**Question 6.c.**  Quelle est la distribution de la taille de la dernière feuille tombée sur le sol? La comparer, avec un QQ-plot, à la taille de la dernière feuille sur un échantillon de 1000 tapis de feuilles simulés avec la fonction créée à la question précédente. Que peut-on en conclure sur la méthode de simulation proposée?"
   ]
  },
  {
   "cell_type": "markdown",
   "metadata": {},
   "source": []
  },
  {
   "cell_type": "markdown",
   "metadata": {},
   "source": []
  },
  {
   "cell_type": "code",
   "execution_count": null,
   "metadata": {},
   "outputs": [],
   "source": [
    "## Simulation des tapis et extraction de la taille de la dernière feuille\n",
    "def taille_derniere_feuille_stop() -> 'list[float]':\n",
    "    L = []\n",
    "    for i in range(1000):\n",
    "        Sim = simFeuillesStop(theta,p,a,b,Dext)\n",
    "        L.append(Sim[-1][3])\n",
    "    return L"
   ]
  },
  {
   "cell_type": "code",
   "execution_count": null,
   "metadata": {},
   "outputs": [],
   "source": [
    "taille_derniere_feuille_stop()"
   ]
  },
  {
   "cell_type": "code",
   "execution_count": null,
   "metadata": {},
   "outputs": [],
   "source": [
    "## Quantiles théoriques \n",
    "qth = np.array([invF_rho(k/50, a, b) for k in range(1, 50)])\n",
    "\n",
    "## Quantiles des simulations\n",
    "qexp = [np.quantile(taille_derniere_feuille_stop(),k/50) for k in range(1,50)]"
   ]
  },
  {
   "cell_type": "code",
   "execution_count": null,
   "metadata": {},
   "outputs": [],
   "source": [
    "## QQ-Plot\n",
    "fig,ax=plt.subplots()\n",
    "ax.axline((0, 0), slope=1, linewidth=1, color='r')\n",
    "ax.scatter(qth,qexp)\n",
    "ax.set_xlabel(\"Quantiles theoriques\")\n",
    "ax.set_ylabel(\"Quantiles des simulations\")\n",
    "plt.show()"
   ]
  },
  {
   "cell_type": "markdown",
   "metadata": {},
   "source": []
  },
  {
   "cell_type": "markdown",
   "metadata": {},
   "source": [
    "<h1 style=\"font-family: Georgia, serif;font-size: 1em;margin-left: 3em;margin-right: 4em;\"> \n",
    "\n",
    "---\n",
    "\n",
    "Face à cette nouvelle déconvenue, on adopte un point de vue différent sur le tapis de feuilles mortes. Jusqu'à maintenant, on observait les feuilles tomber et s'empiler (pendant un temps infini), sur le sol. Ainsi, à $t=T_0=0$, on observe, en vue de dessus notre tapis de feuilles mortes. \n",
    "\n",
    "Supposons désormais qu'il nous est possible d'observer le sol par en-dessous (par exemple, parce que le sol est en fait une verrière plane en dessous de laquelle on se trouve). Comme pour la question précédente,  on commence à $t=U_0=0$ avec un sol vide, et on fait tomber des feuilles selon un processus de Poisson $(U_i)_{i\\in\\mathbb{N}^*}$ sur $]0,\\infty[$. Les caractéristiques des feuilles $F_i$ tombées à chaque instant $U_i$ sont déterminées de la même façon que pour le modèle des feuilles mortes et $M$ désigne une nouvelle fois l'indice (aléatoire) $M$ à partir duquel le sol est recouvert de feuilles.\n",
    "\n",
    "Puisqu'on observe maintenant le sol par en-dessous, après l'instant $U_{M}$, le tapis ne change plus car le sol est recouvert de feuilles et donc les nouvelles feuilles qui tombent sont cachées par celle qui sont déjà présentes. Ainsi, contrairement à la construction précédente, le tapis est fixé à partir d'un certain temps. \n",
    "\n",
    "---\n",
    "\n",
    "</h1> \n"
   ]
  },
  {
   "cell_type": "markdown",
   "metadata": {},
   "source": [
    "**Question 7.a.**  Pour $i\\in\\lbrace 1,...,M\\rbrace$, on pose \n",
    "$$ T_{-i} = -U_{i}$$\n",
    "Montrer qu'en associant la feuille $F_i$ au temps $T_{-i}$, les feuilles $(F_i)_{1\\le i\\le M}$ correspondent aux $M$ dernières feuilles d'un modèle des feuilles mortes."
   ]
  },
  {
   "cell_type": "markdown",
   "metadata": {},
   "source": [
    "**Réponse**\n",
    "\n",
    "De même qu'en 6.a., il s'agit de montrer que les variables $(T_{-i})_{i\\in \\lbrace 1,\\dots,M \\rbrace}$ suivent la même loi que leurs homologues de la partie 1.\n",
    "\n",
    "1. Pour tout $ A \\in {\\cal B} (]-\\infty, 0])$ borné et fixé, on note $N (A)=\\text{Card}\\lbrace i\\in \\llbracket 1,M\\rrbracket\\,\\vert\\, T_{-i} \\in A\\rbrace$ et $-A = \\lbrace-x \\,\\vert\\, x\\in A\\rbrace \\in {\\cal B}([0, +\\infty[)$, qui est également borné et fixé.\n",
    "\n",
    "Pour tout $B\\in {\\cal B}([0, +\\infty[)$ borné et fixé, on note $\\tilde N (B)=\\text{Card}\\lbrace i\\in \\llbracket 1,M\\rrbracket\\,\\vert\\, U_{i} \\in B\\rbrace$, qui suit une loi de Poisson de paramètre $\\theta \\, | B |$, où $\\theta \\in \\mathbb{R}^+$ et $|B|$ est la mesure de Lebesgue de $B$ ; par définittion des $(U_{i})_{i\\in \\llbracket 1,M\\rrbracket}$. On a donc, pour tous $A \\in {\\cal B} (]-\\infty, 0]), n \\in \\mathbb{N}$:\n",
    "      $$ \\mathbb{P} ( N (A) = n) = \\mathbb{P} (\\tilde N(-A)\\exp \\bigl( - \\theta | A | \\bigr) \\frac{\n",
    "        \\bigl( \\theta | A | \\bigr)^n }{n!},~n \\in \\N $$\n",
    "\n",
    "2. Pour tout $p\\ge 2$, si $A_1,...,A_p \\in {\\cal B} (]-\\infty, 0]) $ sont \n",
    "      disjoints deux à deux, alors $ N(A_1),...,N(A_p)$ sont \n",
    "      mutuellement indépendants.\n",
    "\n",
    "Pour cela, il suffit de montrer d'après la question **1. dbis** que les variables $E_i = T_{-i + 1} - T_{-i}$ sont indépendantes et de loi $\\mathcal{E} (\\theta)$ pour prouver le résultat demandé. \n",
    "\n",
    "Or pour $i \\in \\lbrace 2, \\dots, M \\rbrace$, un tel $E_i$ est donné par :\n",
    "$$\n",
    "E_i = U_{i} - U_{i-1}\n",
    "$$\n",
    "Et pour $i=1$,\n",
    "$$\n",
    "E_1 = 0 - T_{-1} = U_{1}\n",
    "$$\n",
    "Qui est aussi de loi exponentielle de paramètre $\\theta$ et indépendante des $E_i$ pour $i \\geq 2$ puisqu'indépendate des $U_i$ pour tout $i$.\n",
    "\n",
    "Puisque les $(U_i)_{ 1 \\le i \\le M }$ définissent eux-mêmes un processus de Poisson de paramètre $\\theta$ (a priori), le résultat est acquis d'après la question **1. d** car on sait alors que les $E_i$ sont bien indépendantes et de loi $\\mathcal{E} (\\theta)$."
   ]
  },
  {
   "cell_type": "markdown",
   "metadata": {},
   "source": [
    "**Question 7.b.** En déduire une fonction permettant de simuler ces feuilles. "
   ]
  },
  {
   "cell_type": "code",
   "execution_count": null,
   "metadata": {},
   "outputs": [],
   "source": [
    "def simFeuillesDessous(theta,p,a,b,Dext) : #Il suffit de simuler une chute de feuilles jusqu'à ce que le sol soit recouvert de feuilles, puis d'inverser l'ordre d'arrivée\n",
    "    feuilles = simFeuillesStop(theta, p, a, b, Dext)\n",
    "    n = feuilles.shape[0]\n",
    "    T_max = feuilles[n][0]\n",
    "    for i in range(n) :\n",
    "        feuilles[i][0] = T_max - feuilles[i][0]\n",
    "    return feuilles\n"
   ]
  },
  {
   "cell_type": "code",
   "execution_count": null,
   "metadata": {},
   "outputs": [],
   "source": [
    "## Simulation du tapis de feuilles\n",
    "Sim = simFeuillesDessous(theta,p,a,b,Dext)\n",
    "\n",
    "## Plot\n",
    "plotSim(Sim)"
   ]
  },
  {
   "cell_type": "markdown",
   "metadata": {},
   "source": [
    "**Question 7.c.**  Comparer la distribution, avec un QQ-plot, de la taille de la dernière feuille tombée sur le sol à la taille de la dernière feuille sur un échantillon de 1000 tapis de feuilles simulés avec la fonction créée à la question précédente. Que peut-on en conclure sur la méthode de simulation proposée?"
   ]
  },
  {
   "cell_type": "code",
   "execution_count": null,
   "metadata": {},
   "outputs": [],
   "source": [
    "## Simulation des tapis et extraction de la taille de la dernière feuille\n",
    "def taille_derniere_feuille_dessous() -> 'list[float]':\n",
    "    L = []\n",
    "    for i in range(1000):\n",
    "        Sim = simFeuillesDessous(theta,p,a,b,Dext)\n",
    "        L.append(Sim[-1][3])\n",
    "    return L"
   ]
  },
  {
   "cell_type": "code",
   "execution_count": null,
   "metadata": {},
   "outputs": [],
   "source": [
    "taille_derniere_feuille_dessous()"
   ]
  },
  {
   "cell_type": "code",
   "execution_count": null,
   "metadata": {},
   "outputs": [],
   "source": [
    "## Quantiles théoriques \n",
    "qth = np.array([invF_rho(k/50, a, b) for k in range(1, 50)])\n",
    "\n",
    "## Quantiles des simulations\n",
    "qexp = [np.quantile(taille_derniere_feuille_dessous(),k/50) for k in range(1,50)]"
   ]
  },
  {
   "cell_type": "code",
   "execution_count": null,
   "metadata": {},
   "outputs": [],
   "source": [
    "## QQ-Plot\n",
    "fig,ax=plt.subplots()\n",
    "ax.axline((0, 0), slope=1, linewidth=1, color='r')\n",
    "ax.scatter(qth,qexp)\n",
    "ax.set_xlabel(\"Quantiles theoriques\")\n",
    "ax.set_ylabel(\"Quantiles des simulations\")\n",
    "plt.show()"
   ]
  },
  {
   "cell_type": "markdown",
   "metadata": {},
   "source": []
  },
  {
   "cell_type": "markdown",
   "metadata": {},
   "source": [
    "**Question 7.cbis.(Bonus)** Montrer qu'avec ce modèle, on retrouve que la probabilité que la couleur du tapis au point $x_0\\in\\mathcal{D}$  soit $i$ est également donnée par\n",
    "$$P(C(x_0)=i)=\\frac{p_i r_i^2}{\\sum_{j=1}^{N_c} p_jr_j^2}$$"
   ]
  },
  {
   "cell_type": "markdown",
   "metadata": {},
   "source": []
  },
  {
   "cell_type": "markdown",
   "metadata": {},
   "source": [
    "**Question 7.d.** Implémenter une fonction permettant, étant donné un ensemble de points $x_0\\in\\mathcal{D}$, de recalculer numériquement les probabilités $\\mathbb{P}(C(x_0)=i)$ pour $i\\in\\lbrace 1, \\dots, N_c\\rbrace$ à partir de simulations de tapis (réalisées avec la fonction simFeuillesDessous). Appliquer cette fonction à l'ensemble de points $X_0$ défini dans le code et interpréter les résultats."
   ]
  },
  {
   "cell_type": "code",
   "execution_count": null,
   "metadata": {},
   "outputs": [],
   "source": [
    "##  Fonction de calcul des probabilités \n",
    "### X0 : Tableau contenant les coordonnées (sur chaque ligne) des points sur lequels on souhaite calculer les probabilités\n",
    "### nsim : Nombre de simulations\n",
    "def calcProb(X0,nsim):\n",
    "    \n",
    "    ## COMPLETER ###"
   ]
  },
  {
   "cell_type": "code",
   "execution_count": null,
   "metadata": {},
   "outputs": [],
   "source": [
    "## Points sur lesquels évaluer les probabilités\n",
    "X0=np.stack(np.meshgrid(np.arange(D[0],D[1]+0.2,0.2),np.arange(D[0],D[1]+0.2,0.2)),axis=-1).reshape(-1,2)\n",
    "\n",
    "## Calcul et représentation\n",
    "pvec=calcProb(X0,1000)\n",
    "fig, ax = plt.subplots(3,1,figsize=(5,15))\n",
    "Ngd=int(X0.shape[0]**0.5)\n",
    "for i in range(Nc):\n",
    "    im=ax[i].pcolormesh(X0[:,0].reshape((Ngd,Ngd)),X0[:,1].reshape((Ngd,Ngd)),pvec[:,i].reshape((Ngd,Ngd)))\n",
    "    ax[i].set_title(\"Carte de probabilité pour la couleur i=\"+str(i))\n",
    "    fig.colorbar(im)\n",
    "plt.show()     "
   ]
  },
  {
   "cell_type": "markdown",
   "metadata": {},
   "source": []
  },
  {
   "cell_type": "markdown",
   "metadata": {},
   "source": [
    "**Question 7.dbis.(Bonus)** Proposer un code permettant de simuler un tapis de feuille étant donnée qu'on fixe la couleur $i_0$ de la feuille au point $(0,0)$. Calculer numériquement les probabilités afin de valider les résultats de simulation."
   ]
  },
  {
   "cell_type": "code",
   "execution_count": null,
   "metadata": {},
   "outputs": [],
   "source": [
    "## Simulation conditionnelle\n",
    "def simFeuillesDessousCond(i0,theta,p,a,b,Dext):   \n",
    "    ## COMPLETER ###    \n"
   ]
  }
 ],
 "metadata": {
  "kernelspec": {
   "display_name": "base",
   "language": "python",
   "name": "python3"
  },
  "language_info": {
   "codemirror_mode": {
    "name": "ipython",
    "version": 3
   },
   "file_extension": ".py",
   "mimetype": "text/x-python",
   "name": "python",
   "nbconvert_exporter": "python",
   "pygments_lexer": "ipython3",
   "version": "3.12.4"
  }
 },
 "nbformat": 4,
 "nbformat_minor": 2
}
